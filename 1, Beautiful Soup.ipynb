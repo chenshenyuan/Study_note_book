{
 "cells": [
  {
   "cell_type": "markdown",
   "metadata": {
    "collapsed": true
   },
   "source": [
    "# Beautiful Soup\n",
    "\t---Shenyuan Chen"
   ]
  },
  {
   "cell_type": "markdown",
   "metadata": {},
   "source": [
    "#### It's the study notes for Beautiful Soup Doc with practices use of myself\n",
    "\n",
    "1. import the library\n",
    "2. Making Soup\n",
    "\t1. Make soup with requests\n",
    "\t2. Make soup with urlopen\n",
    "\t3. Make soup with Webdriver\n",
    "3. Kinds of Objects\n",
    "\t1. Tag\n",
    "\t2. BeautifulSoup\n",
    "\n"
   ]
  },
  {
   "cell_type": "markdown",
   "metadata": {},
   "source": [
    "###1, import the library (ignore the install by using conda)\n",
    "in this case, I use requests to get normal website,<br>use webdriver from selenium to deal with dynamic html"
   ]
  },
  {
   "cell_type": "code",
   "execution_count": 31,
   "metadata": {},
   "outputs": [],
   "source": [
    "from bs4 import BeautifulSoup\n",
    "import requests\n",
    "from selenium import webdriver\n",
    "from urllib.request import urlopen"
   ]
  },
  {
   "cell_type": "markdown",
   "metadata": {},
   "source": [
    "example of html_doc gonna like after Requests or Selenium"
   ]
  },
  {
   "cell_type": "code",
   "execution_count": 32,
   "metadata": {},
   "outputs": [],
   "source": [
    "html_doc = \"\"\"\n",
    "<html><head><title>The Dormouse's story</title></head>\n",
    "<body>\n",
    "<p class=\"title\"><b>The Dormouse's story</b></p>\n",
    "\n",
    "<p class=\"story\">Once upon a time there were three little sisters; and their names were\n",
    "<a href=\"http://example.com/elsie\" class=\"sister\" id=\"link1\">Elsie</a>,\n",
    "<a href=\"http://example.com/lacie\" class=\"sister\" id=\"link2\">Lacie</a> and\n",
    "<a href=\"http://example.com/tillie\" class=\"sister\" id=\"link3\">Tillie</a>;\n",
    "and they lived at the bottom of a well.</p>\n",
    "\n",
    "<p class=\"story\">...</p>\n",
    "\"\"\"\n",
    "\n",
    "normal_web = 'http://www.onixs.biz/fix-dictionary/4.4/fields_by_tag.html'\n",
    "dynamic_web = 'http://stats.nba.com/game/#!/0021600946/'"
   ]
  },
  {
   "cell_type": "markdown",
   "metadata": {},
   "source": [
    "### 2, Making Soup\n",
    "carefully use parser assignment. There are four method available:<br>\n",
    "* Python's html parser\n",
    "* lxml's HTML parser\n",
    "* lxml's XML parser\n",
    "* html5lib"
   ]
  },
  {
   "cell_type": "markdown",
   "metadata": {},
   "source": [
    "1, make soup with the requests"
   ]
  },
  {
   "cell_type": "code",
   "execution_count": 35,
   "metadata": {
    "collapsed": false
   },
   "outputs": [
    {
     "name": "stdout",
     "output_type": "stream",
     "text": [
      "<class 'bs4.BeautifulSoup'>\n"
     ]
    }
   ],
   "source": [
    "resp = requests.get(normal_web)\n",
    "bsobj = BeautifulSoup(resp.text,'lxml')\n",
    "print(type(bsobj))"
   ]
  },
  {
   "cell_type": "markdown",
   "metadata": {},
   "source": [
    "2, make soup with urlopen"
   ]
  },
  {
   "cell_type": "code",
   "execution_count": 38,
   "metadata": {},
   "outputs": [
    {
     "name": "stdout",
     "output_type": "stream",
     "text": [
      "<class 'bs4.BeautifulSoup'>\n"
     ]
    }
   ],
   "source": [
    "resp = urlopen(normal_web)\n",
    "bsobj = BeautifulSoup(resp.read(),'lxml')\n",
    "print(type(bsobj))"
   ]
  },
  {
   "cell_type": "markdown",
   "metadata": {},
   "source": [
    "3, make soup with webdriver"
   ]
  },
  {
   "cell_type": "code",
   "execution_count": 39,
   "metadata": {},
   "outputs": [
    {
     "name": "stdout",
     "output_type": "stream",
     "text": [
      "<class 'bs4.BeautifulSoup'>\n"
     ]
    }
   ],
   "source": [
    "driver = webdriver.Chrome(executable_path='/Users/shenyuanchen/Downloads/chromedriver')\n",
    "driver.get(normal_web)\n",
    "bsobj = BeautifulSoup(driver.page_source,'lxml')\n",
    "print(type(bsobj))\n",
    "driver.quit()"
   ]
  },
  {
   "cell_type": "markdown",
   "metadata": {},
   "source": [
    "###3, Kinds of Objects<br>\n",
    "\n",
    "1. Tag (basically one single line of content)\n",
    "\t* Name\n",
    "\t* Attributes\n",
    "2. Nevitable String\n",
    "3. BeautifulSoup"
   ]
  },
  {
   "cell_type": "markdown",
   "metadata": {},
   "source": [
    "####1, Tag"
   ]
  },
  {
   "cell_type": "code",
   "execution_count": 40,
   "metadata": {},
   "outputs": [
    {
     "name": "stdout",
     "output_type": "stream",
     "text": [
      "<class 'bs4.BeautifulSoup'>\n<class 'bs4.element.Tag'>\n"
     ]
    }
   ],
   "source": [
    "single_tag = '<b class=\"boldest\" id = \"12123\">Extremely bold</b>'\n",
    "soup = BeautifulSoup(single_tag,'lxml')\n",
    "tag = soup.b\n",
    "print(type(soup))\n",
    "print(type(tag))"
   ]
  },
  {
   "cell_type": "markdown",
   "metadata": {},
   "source": [
    "* get each data and check their data type"
   ]
  },
  {
   "cell_type": "code",
   "execution_count": 41,
   "metadata": {},
   "outputs": [
    {
     "name": "stdout",
     "output_type": "stream",
     "text": [
      "b\n<class 'str'>\n['boldest']\n<class 'list'>\n12123\n<class 'str'>\n{'class': ['boldest'], 'id': '12123'}\nExtremely bold\n<class 'bs4.element.NavigableString'>\n"
     ]
    }
   ],
   "source": [
    "print(tag.name)\n",
    "print(type(tag.name))\n",
    "print(tag['class'])\n",
    "print(type(tag['class']))\n",
    "print(tag['id'])\n",
    "print(type(tag['id']))\n",
    "print(tag.attrs)\n",
    "print(tag.string)\n",
    "print(type(tag.string))"
   ]
  },
  {
   "cell_type": "markdown",
   "metadata": {},
   "source": [
    "Note: the tag name or the attributes could easily changed, deleted or added. <br>\n",
    "Since it's don't make sense here, I didn't added<br>"
   ]
  },
  {
   "cell_type": "markdown",
   "metadata": {},
   "source": [
    "####2, NavigableString<br>\n",
    "Navigable string like normal string, but have some feature in Navigating the tree and Searching the tree.<br>"
   ]
  },
  {
   "cell_type": "markdown",
   "metadata": {},
   "source": [
    "* NavigableString could be convert to str by following:<br>\n",
    "note: use str( ) instead of unicode( ) for python3"
   ]
  },
  {
   "cell_type": "code",
   "execution_count": 46,
   "metadata": {},
   "outputs": [
    {
     "name": "stdout",
     "output_type": "stream",
     "text": [
      "Extremely bold\n<class 'bs4.element.NavigableString'>\nExtremely bold\n<class 'str'>\n"
     ]
    }
   ],
   "source": [
    "tag_str = tag.string\n",
    "print(tag_str)\n",
    "print(type(tag_str))\n",
    "\n",
    "str_string = str(tag_str)\n",
    "print(str_string)\n",
    "print(type(str_string))"
   ]
  },
  {
   "cell_type": "markdown",
   "metadata": {},
   "source": [
    "####3, BeautifulSoup"
   ]
  },
  {
   "cell_type": "markdown",
   "metadata": {},
   "source": [
    "For BeautifulSoup object, it is the html convert result, could be treat as Tag object. It does not have name or attributes. "
   ]
  },
  {
   "cell_type": "code",
   "execution_count": null,
   "metadata": {},
   "outputs": [],
   "source": [
    ""
   ]
  },
  {
   "cell_type": "code",
   "execution_count": null,
   "metadata": {},
   "outputs": [],
   "source": [
    ""
   ]
  },
  {
   "cell_type": "code",
   "execution_count": null,
   "metadata": {},
   "outputs": [],
   "source": [
    ""
   ]
  },
  {
   "cell_type": "code",
   "execution_count": null,
   "metadata": {},
   "outputs": [],
   "source": [
    ""
   ]
  }
 ],
 "metadata": {
  "kernelspec": {
   "display_name": "Python 2",
   "language": "python",
   "name": "python2"
  },
  "language_info": {
   "codemirror_mode": {
    "name": "ipython",
    "version": 2.0
   },
   "file_extension": ".py",
   "mimetype": "text/x-python",
   "name": "python",
   "nbconvert_exporter": "python",
   "pygments_lexer": "ipython2",
   "version": "2.7.6"
  }
 },
 "nbformat": 4,
 "nbformat_minor": 0
}