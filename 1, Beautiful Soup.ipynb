{
 "cells": [
  {
   "cell_type": "markdown",
   "metadata": {
    "collapsed": true
   },
   "source": [
    "# Beautiful Soup<br>\n",
    "Import note: In most of the cases that you can't find the target, it's not BeautifulSoup didn't parser the html, it's usuallythe webscraper didn't load the part. \n",
    "\t---Shenyuan Chen"
   ]
  },
  {
   "cell_type": "markdown",
   "metadata": {},
   "source": [
    "#### It's the study notes for Beautiful Soup Doc with practices use of myself\n",
    "\n",
    "1. import the library\n",
    "2. Making Soup\n",
    "\t1. Make soup with requests\n",
    "\t2. Make soup with urlopen\n",
    "\t3. Make soup with Webdriver\n",
    "3. Kinds of Objects\n",
    "\t1. Tag\n",
    "\t2. NavigableString\n",
    "\t3. BeautifulSoup\n",
    "4. Navigating the Tree\n",
    "\t1. Going down\n",
    "\t2. Going up\n",
    "\t3. Going sideways\n",
    "\t4. Going back and forth"
   ]
  },
  {
   "cell_type": "markdown",
   "metadata": {},
   "source": [
    "###1, import the library (ignore the install by using conda)\n",
    "in this case, I use requests to get normal website,<br>use webdriver from selenium to deal with dynamic html"
   ]
  },
  {
   "cell_type": "code",
   "execution_count": 2,
   "metadata": {},
   "outputs": [],
   "source": [
    "from bs4 import BeautifulSoup\n",
    "import requests\n",
    "from selenium import webdriver\n",
    "from urllib.request import urlopen"
   ]
  },
  {
   "cell_type": "markdown",
   "metadata": {},
   "source": [
    "example of html_doc gonna like after Requests or Selenium"
   ]
  },
  {
   "cell_type": "code",
   "execution_count": 3,
   "metadata": {},
   "outputs": [],
   "source": [
    "html_doc = \"\"\"\n",
    "<html><head><title>The Dormouse's story</title></head>\n",
    "<body>\n",
    "<p class=\"title\"><b>The Dormouse's story</b></p>\n",
    "\n",
    "<p class=\"story\">Once upon a time there were three little sisters; and their names were\n",
    "<a href=\"http://example.com/elsie\" class=\"sister\" id=\"link1\">Elsie</a>,\n",
    "<a href=\"http://example.com/lacie\" class=\"sister\" id=\"link2\">Lacie</a> and\n",
    "<a href=\"http://example.com/tillie\" class=\"sister\" id=\"link3\">Tillie</a>;\n",
    "and they lived at the bottom of a well.</p>\n",
    "\n",
    "<p class=\"story\">...</p>\n",
    "\"\"\"\n",
    "\n",
    "normal_web = 'http://www.onixs.biz/fix-dictionary/4.4/fields_by_tag.html'\n",
    "dynamic_web = 'http://stats.nba.com/game/#!/0021600946/'"
   ]
  },
  {
   "cell_type": "markdown",
   "metadata": {},
   "source": [
    "### 2, Making Soup\n",
    "carefully use parser assignment. There are four method available:<br>\n",
    "* Python's html parser\n",
    "* lxml's HTML parser\n",
    "* lxml's XML parser\n",
    "* html5lib"
   ]
  },
  {
   "cell_type": "markdown",
   "metadata": {},
   "source": [
    "1, make soup with the requests"
   ]
  },
  {
   "cell_type": "code",
   "execution_count": 5,
   "metadata": {
    "collapsed": false
   },
   "outputs": [
    {
     "name": "stdout",
     "output_type": "stream",
     "text": [
      "<class 'bs4.BeautifulSoup'>\n"
     ]
    }
   ],
   "source": [
    "resp = requests.get(normal_web)\n",
    "bsobj = BeautifulSoup(resp.text,'lxml')\n",
    "print(type(bsobj))"
   ]
  },
  {
   "cell_type": "markdown",
   "metadata": {},
   "source": [
    "2, make soup with urlopen"
   ]
  },
  {
   "cell_type": "code",
   "execution_count": 8,
   "metadata": {},
   "outputs": [
    {
     "name": "stdout",
     "output_type": "stream",
     "text": [
      "<class 'bs4.BeautifulSoup'>\n"
     ]
    }
   ],
   "source": [
    "resp = urlopen(normal_web)\n",
    "bsobj = BeautifulSoup(resp.read(),'lxml')\n",
    "print(type(bsobj))"
   ]
  },
  {
   "cell_type": "markdown",
   "metadata": {},
   "source": [
    "3, make soup with webdriver"
   ]
  },
  {
   "cell_type": "code",
   "execution_count": 11,
   "metadata": {},
   "outputs": [
    {
     "name": "stdout",
     "output_type": "stream",
     "text": [
      "<class 'bs4.BeautifulSoup'>\n"
     ]
    }
   ],
   "source": [
    "driver = webdriver.Chrome(executable_path='/Users/shenyuanchen/Downloads/chromedriver')\n",
    "driver.get(normal_web)\n",
    "bsobj = BeautifulSoup(driver.page_source,'lxml')\n",
    "print(type(bsobj))\n",
    "driver.quit()"
   ]
  },
  {
   "cell_type": "markdown",
   "metadata": {},
   "source": [
    "###3, Kinds of Objects<br>\n",
    "\n",
    "1. Tag (basically one single line of content)\n",
    "\t* Name\n",
    "\t* Attributes\n",
    "2. Nevitable String\n",
    "3. BeautifulSoup"
   ]
  },
  {
   "cell_type": "markdown",
   "metadata": {},
   "source": [
    "####1, Tag"
   ]
  },
  {
   "cell_type": "code",
   "execution_count": 12,
   "metadata": {},
   "outputs": [
    {
     "name": "stdout",
     "output_type": "stream",
     "text": [
      "<class 'bs4.BeautifulSoup'>\n<class 'bs4.element.Tag'>\n"
     ]
    }
   ],
   "source": [
    "single_tag = '<b class=\"boldest\" id = \"12123\">Extremely bold</b>'\n",
    "soup = BeautifulSoup(single_tag,'lxml')\n",
    "tag = soup.b\n",
    "print(type(soup))\n",
    "print(type(tag))"
   ]
  },
  {
   "cell_type": "markdown",
   "metadata": {},
   "source": [
    "* get each data and check their data type"
   ]
  },
  {
   "cell_type": "code",
   "execution_count": 13,
   "metadata": {},
   "outputs": [
    {
     "name": "stdout",
     "output_type": "stream",
     "text": [
      "b\n<class 'str'>\n['boldest']\n<class 'list'>\n12123\n<class 'str'>\n{'class': ['boldest'], 'id': '12123'}\nExtremely bold\n<class 'bs4.element.NavigableString'>\n"
     ]
    }
   ],
   "source": [
    "print(tag.name)\n",
    "print(type(tag.name))\n",
    "print(tag['class'])\n",
    "print(type(tag['class']))\n",
    "print(tag['id'])\n",
    "print(type(tag['id']))\n",
    "print(tag.attrs)\n",
    "print(tag.string)\n",
    "print(type(tag.string))"
   ]
  },
  {
   "cell_type": "markdown",
   "metadata": {},
   "source": [
    "Note: the tag name or the attributes could easily changed, deleted or added. <br>\n",
    "Since it's don't make sense here, I didn't added<br>"
   ]
  },
  {
   "cell_type": "markdown",
   "metadata": {},
   "source": [
    "####2, NavigableString<br>\n",
    "Navigable string like normal string, but have some feature in Navigating the tree and Searching the tree.<br>"
   ]
  },
  {
   "cell_type": "markdown",
   "metadata": {},
   "source": [
    "* NavigableString could be convert to str by following:<br>\n",
    "note: use str( ) instead of unicode( ) for python3"
   ]
  },
  {
   "cell_type": "code",
   "execution_count": 14,
   "metadata": {},
   "outputs": [
    {
     "name": "stdout",
     "output_type": "stream",
     "text": [
      "Extremely bold\n<class 'bs4.element.NavigableString'>\nExtremely bold\n<class 'str'>\n"
     ]
    }
   ],
   "source": [
    "tag_str = tag.string\n",
    "print(tag_str)\n",
    "print(type(tag_str))\n",
    "\n",
    "str_string = str(tag_str)\n",
    "print(str_string)\n",
    "print(type(str_string))"
   ]
  },
  {
   "cell_type": "markdown",
   "metadata": {},
   "source": [
    "####3, BeautifulSoup"
   ]
  },
  {
   "cell_type": "markdown",
   "metadata": {},
   "source": [
    "For BeautifulSoup object, it is the html convert result, could be treat as Tag object. It does not have name or attributes. "
   ]
  },
  {
   "cell_type": "markdown",
   "metadata": {},
   "source": [
    "###4. Navigating the Tree\n",
    "1. Going down\n",
    "2. Going up\n",
    "3. Going sideways\n",
    "4. Going back and forth"
   ]
  },
  {
   "cell_type": "code",
   "execution_count": 15,
   "metadata": {},
   "outputs": [],
   "source": [
    "soup = BeautifulSoup(html_doc,'html.parser')"
   ]
  },
  {
   "cell_type": "markdown",
   "metadata": {},
   "source": [
    "####1, Going down\n",
    "1,use tag <br>\n",
    "\n",
    "use tag is pretty straight forward, but only works for the first available tag"
   ]
  },
  {
   "cell_type": "code",
   "execution_count": 36,
   "metadata": {},
   "outputs": [
    {
     "name": "stdout",
     "output_type": "stream",
     "text": [
      "<a class=\"sister\" href=\"http://example.com/elsie\" id=\"link1\">Elsie</a>\n<a class=\"sister\" href=\"http://example.com/elsie\" id=\"link1\">Elsie</a>\n"
     ]
    }
   ],
   "source": [
    "print(soup.a) #using tag\n",
    "print(soup.body.a)"
   ]
  },
  {
   "cell_type": "markdown",
   "metadata": {},
   "source": [
    "2, Use .contents and .children or .descendants\n",
    "\n",
    ".contents and .children are basically same, just .contents is a list of all the childrens<br>\n",
    ".descendants get all the descendants, including children's children. It's a generator"
   ]
  },
  {
   "cell_type": "code",
   "execution_count": 24,
   "metadata": {},
   "outputs": [
    {
     "name": "stdout",
     "output_type": "stream",
     "text": [
      "<head><title>The Dormouse's story</title></head>\n[<title>The Dormouse's story</title>]\n<list_iterator object at 0x1069b6908>\n<generator object descendants at 0x104e89728>\n<title>The Dormouse's story</title>\nThe Dormouse's story\n"
     ]
    }
   ],
   "source": [
    "print(soup.head)\n",
    "print(soup.head.contents)\n",
    "print(soup.head.children)\n",
    "print(soup.descendants)\n",
    "for i in soup.head.descendants:\n",
    "    print(i)"
   ]
  },
  {
   "cell_type": "markdown",
   "metadata": {},
   "source": [
    "3, Use .string, .strings or stripped_strings\n",
    "\n",
    ".String gives a string of the tag, if no string for current tag, it's children's string could be cited. <br>\n",
    ".strings gives a generator of strings in the object<br>\n",
    ". stripped_string gives a generator with string that is stripped"
   ]
  },
  {
   "cell_type": "code",
   "execution_count": 25,
   "metadata": {},
   "outputs": [
    {
     "name": "stdout",
     "output_type": "stream",
     "text": [
      "The Dormouse's story\n<generator object _all_strings at 0x104e898e0>\n<generator object stripped_strings at 0x104e898e0>\n"
     ]
    }
   ],
   "source": [
    "print(soup.head.string)\n",
    "print(soup.strings)\n",
    "print(soup.stripped_strings)"
   ]
  },
  {
   "cell_type": "code",
   "execution_count": 27,
   "metadata": {},
   "outputs": [
    {
     "name": "stdout",
     "output_type": "stream",
     "text": [
      "\n\nThe Dormouse's story\n\n\n\n\nThe Dormouse's story\n\n\nOnce upon a time there were three little sisters; and their names were\n\nElsie\n,\n\nLacie\n and\n\nTillie\n;\nand they lived at the bottom of a well.\n\n\n...\n\n\n"
     ]
    }
   ],
   "source": [
    "for i in soup.strings:\n",
    "    print(i)"
   ]
  },
  {
   "cell_type": "code",
   "execution_count": 28,
   "metadata": {},
   "outputs": [
    {
     "name": "stdout",
     "output_type": "stream",
     "text": [
      "The Dormouse's story\nThe Dormouse's story\nOnce upon a time there were three little sisters; and their names were\nElsie\n,\nLacie\nand\nTillie\n;\nand they lived at the bottom of a well.\n...\n"
     ]
    }
   ],
   "source": [
    "for k in soup.stripped_strings:\n",
    "    print(k)"
   ]
  },
  {
   "cell_type": "markdown",
   "metadata": {},
   "source": [
    "####2, Going up"
   ]
  },
  {
   "cell_type": "markdown",
   "metadata": {},
   "source": [
    "1, .parent and .parents:<br>\n",
    ".parents gives the parents tag content, .parents gives a generator for parents<br>\n",
    "beautifulsoup object does not have parents, so will return None"
   ]
  },
  {
   "cell_type": "code",
   "execution_count": 30,
   "metadata": {},
   "outputs": [
    {
     "name": "stdout",
     "output_type": "stream",
     "text": [
      "<a class=\"sister\" href=\"http://example.com/elsie\" id=\"link1\">Elsie</a>\n<p class=\"story\">Once upon a time there were three little sisters; and their names were\n<a class=\"sister\" href=\"http://example.com/elsie\" id=\"link1\">Elsie</a>,\n<a class=\"sister\" href=\"http://example.com/lacie\" id=\"link2\">Lacie</a> and\n<a class=\"sister\" href=\"http://example.com/tillie\" id=\"link3\">Tillie</a>;\nand they lived at the bottom of a well.</p>\n"
     ]
    }
   ],
   "source": [
    "print(soup.a)\n",
    "print(soup.a.parent)"
   ]
  },
  {
   "cell_type": "code",
   "execution_count": 32,
   "metadata": {},
   "outputs": [
    {
     "name": "stdout",
     "output_type": "stream",
     "text": [
      "<generator object parents at 0x1064b1360>\np\nbody\nhtml\n[document]\n"
     ]
    }
   ],
   "source": [
    "print(soup.a.parents)\n",
    "for k in soup.a.parents:\n",
    "    if k is None:\n",
    "        print(k)\n",
    "    else:\n",
    "        print(k.name)"
   ]
  },
  {
   "cell_type": "markdown",
   "metadata": {},
   "source": [
    "####3, Going Sideways"
   ]
  },
  {
   "cell_type": "markdown",
   "metadata": {},
   "source": [
    ".next_sibling and .previous_sibling<br>\n",
    "They are basically get the next item in the under the same parents<br>\n",
    "note here, next_sibling of Elsie is a comma<br>\n",
    "\n",
    ".next_siblings and .previous_siblings<br>\n",
    "The generator of next siblings or previous siblings"
   ]
  },
  {
   "cell_type": "code",
   "execution_count": 35,
   "metadata": {},
   "outputs": [
    {
     "name": "stdout",
     "output_type": "stream",
     "text": [
      "<a class=\"sister\" href=\"http://example.com/elsie\" id=\"link1\">Elsie</a>\n,\n\n<a class=\"sister\" href=\"http://example.com/lacie\" id=\"link2\">Lacie</a>\n"
     ]
    }
   ],
   "source": [
    "print(soup.a)\n",
    "print(soup.a.next_sibling)\n",
    "print(soup.a.next_sibling.next_sibling)"
   ]
  },
  {
   "cell_type": "markdown",
   "metadata": {},
   "source": [
    "####4, Going back and forward"
   ]
  },
  {
   "cell_type": "markdown",
   "metadata": {},
   "source": [
    ".next_element and .previous_element<br>\n",
    "It's used to move from next two part that are parsed. It's not necessary to have the same parents <br>\n",
    ".next_elements and .previous_elements<br>\n",
    "Still the generator to get the next/previous element"
   ]
  },
  {
   "cell_type": "code",
   "execution_count": 39,
   "metadata": {},
   "outputs": [
    {
     "name": "stdout",
     "output_type": "stream",
     "text": [
      "<a class=\"sister\" href=\"http://example.com/tillie\" id=\"link3\">Tillie</a>\nTillie\n;\nand they lived at the bottom of a well.\n"
     ]
    }
   ],
   "source": [
    "print(soup.find('a',id = 'link3'))\n",
    "print(soup.find('a',id = 'link3').next_element)\n",
    "print(soup.find('a',id = 'link3').next_element.next_element)"
   ]
  },
  {
   "cell_type": "code",
   "execution_count": null,
   "metadata": {},
   "outputs": [],
   "source": [
    ""
   ]
  },
  {
   "cell_type": "code",
   "execution_count": null,
   "metadata": {},
   "outputs": [],
   "source": [
    ""
   ]
  },
  {
   "cell_type": "code",
   "execution_count": null,
   "metadata": {},
   "outputs": [],
   "source": [
    ""
   ]
  },
  {
   "cell_type": "code",
   "execution_count": null,
   "metadata": {},
   "outputs": [],
   "source": [
    ""
   ]
  },
  {
   "cell_type": "code",
   "execution_count": null,
   "metadata": {},
   "outputs": [],
   "source": [
    ""
   ]
  },
  {
   "cell_type": "code",
   "execution_count": null,
   "metadata": {},
   "outputs": [],
   "source": [
    ""
   ]
  },
  {
   "cell_type": "code",
   "execution_count": null,
   "metadata": {},
   "outputs": [],
   "source": [
    ""
   ]
  },
  {
   "cell_type": "code",
   "execution_count": null,
   "metadata": {},
   "outputs": [],
   "source": [
    ""
   ]
  },
  {
   "cell_type": "code",
   "execution_count": null,
   "metadata": {},
   "outputs": [],
   "source": [
    ""
   ]
  }
 ],
 "metadata": {
  "kernelspec": {
   "display_name": "Python 2",
   "language": "python",
   "name": "python2"
  },
  "language_info": {
   "codemirror_mode": {
    "name": "ipython",
    "version": 2.0
   },
   "file_extension": ".py",
   "mimetype": "text/x-python",
   "name": "python",
   "nbconvert_exporter": "python",
   "pygments_lexer": "ipython2",
   "version": "2.7.6"
  }
 },
 "nbformat": 4,
 "nbformat_minor": 0
}